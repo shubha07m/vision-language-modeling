{
  "nbformat": 4,
  "nbformat_minor": 0,
  "metadata": {
    "colab": {
      "provenance": [],
      "authorship_tag": "ABX9TyMjTmeis4+dHDtsypx29eho",
      "include_colab_link": true
    },
    "kernelspec": {
      "name": "python3",
      "display_name": "Python 3"
    },
    "language_info": {
      "name": "python"
    }
  },
  "cells": [
    {
      "cell_type": "markdown",
      "metadata": {
        "id": "view-in-github",
        "colab_type": "text"
      },
      "source": [
        "<a href=\"https://colab.research.google.com/github/shubha07m/vision-language-modeling/blob/main/CNN_based_feature_extraction.ipynb\" target=\"_parent\"><img src=\"https://colab.research.google.com/assets/colab-badge.svg\" alt=\"Open In Colab\"/></a>"
      ]
    },
    {
      "cell_type": "markdown",
      "source": [
        "## Extracting feature from an input image and sample similarity testing"
      ],
      "metadata": {
        "id": "RvByHaZFMlaM"
      }
    },
    {
      "cell_type": "code",
      "execution_count": 26,
      "metadata": {
        "id": "7Ud9GBBhMadM"
      },
      "outputs": [],
      "source": [
        "# Importing required libraries\n",
        "import torch\n",
        "from torchvision import models\n",
        "import torchvision.transforms as transforms\n",
        "from PIL import Image\n",
        "import torch.nn as nn\n",
        "import numpy as np\n",
        "import matplotlib.pyplot as plt\n",
        "import pandas as pd\n",
        "from google.colab import files\n",
        "import io\n",
        "import os\n",
        "from sklearn.metrics.pairwise import cosine_similarity"
      ]
    },
    {
      "cell_type": "code",
      "source": [
        "# setting up google drive\n",
        "from google.colab import drive\n",
        "drive.mount('/content/drive')\n",
        "image_path = '/content/drive/MyDrive/sample_images/type_1'"
      ],
      "metadata": {
        "colab": {
          "base_uri": "https://localhost:8080/"
        },
        "id": "Fnzk9VSHypB5",
        "outputId": "58f20548-4c4f-45d0-df63-df8b61206494"
      },
      "execution_count": 2,
      "outputs": [
        {
          "output_type": "stream",
          "name": "stdout",
          "text": [
            "Mounted at /content/drive\n"
          ]
        }
      ]
    },
    {
      "cell_type": "code",
      "source": [
        "# Initializing few model to use for image embedding\n",
        "\n",
        "model1 = models.mobilenet_v3_small(weights='IMAGENET1K_V1')\n",
        "\n",
        "model2 = models.resnet50(weights='IMAGENET1K_V1')\n",
        "\n",
        "model3 = models.efficientnet_v2_s(weights='IMAGENET1K_V1')\n",
        "\n",
        "model4 = models.convnext_tiny(weights='IMAGENET1K_V1')\n",
        "\n",
        "model_vit = models.vit_b_16(weights='IMAGENET1K_V1')"
      ],
      "metadata": {
        "id": "ERp7Epz1vIUj"
      },
      "execution_count": 44,
      "outputs": []
    },
    {
      "cell_type": "code",
      "source": [
        "# Function for creating image embedding model\n",
        "def get_image_embedder(model):\n",
        "    # Remove the last classification layer\n",
        "    layers = list(model.children())[:-1]\n",
        "\n",
        "    # Define the embedder model\n",
        "    embed_model = nn.Sequential(*layers)\n",
        "\n",
        "    # Set model to evaluation mode\n",
        "    embed_model.eval()\n",
        "\n",
        "    return embed_model"
      ],
      "metadata": {
        "id": "ST8291taNo6m"
      },
      "execution_count": 36,
      "outputs": []
    },
    {
      "cell_type": "code",
      "source": [
        "def images_to_embeddings(folder_path, model):\n",
        "    embeddings_list = []\n",
        "\n",
        "    # Define the transformation\n",
        "    transform = transforms.Compose([\n",
        "        transforms.Resize(256),\n",
        "        transforms.CenterCrop(224),\n",
        "        transforms.ToTensor(),\n",
        "        transforms.Normalize(\n",
        "            mean=[0.485, 0.456, 0.406],\n",
        "            std=[0.229, 0.224, 0.225]\n",
        "        )\n",
        "    ])\n",
        "\n",
        "    # Loop through all files in the folder\n",
        "    for image_file in os.listdir(folder_path):\n",
        "        image_path = os.path.join(folder_path, image_file)\n",
        "\n",
        "        # Ensure it's a file and an image\n",
        "        if os.path.isfile(image_path) and image_file.lower().endswith(('png', 'jpg', 'jpeg', 'bmp')):\n",
        "            image = Image.open(image_path)\n",
        "\n",
        "            # Transform the PIL image to PyTorch tensor\n",
        "            transformed_image = transform(image)\n",
        "\n",
        "            # Convert to batches (add batch dimension)\n",
        "            image_batch = transformed_image.unsqueeze(0)\n",
        "\n",
        "            # Get embedding without calculating gradients\n",
        "            with torch.no_grad():\n",
        "                embedding = model(image_batch)\n",
        "\n",
        "            # Add embedding to the list\n",
        "            embeddings_list.append(embedding.numpy())\n",
        "\n",
        "    # Stack all embeddings along the first axis (batch axis)\n",
        "    stacked_embeddings = np.vstack(embeddings_list)\n",
        "\n",
        "    return stacked_embeddings"
      ],
      "metadata": {
        "id": "AbEvHUoLzCaW"
      },
      "execution_count": 37,
      "outputs": []
    },
    {
      "cell_type": "code",
      "source": [
        "embed_model = get_image_embedder(model1)"
      ],
      "metadata": {
        "id": "2d5X_DTyvVYa"
      },
      "execution_count": 6,
      "outputs": []
    },
    {
      "cell_type": "code",
      "source": [
        "embeddings = images_to_embeddings(image_path, embed_model)"
      ],
      "metadata": {
        "id": "K580b1WBVzzU"
      },
      "execution_count": 7,
      "outputs": []
    },
    {
      "cell_type": "code",
      "source": [
        "embeddings[1].shape"
      ],
      "metadata": {
        "colab": {
          "base_uri": "https://localhost:8080/"
        },
        "id": "fQGUKkKvrcy4",
        "outputId": "53cf8165-2164-4222-83fd-e6ed5bd49586"
      },
      "execution_count": 8,
      "outputs": [
        {
          "output_type": "execute_result",
          "data": {
            "text/plain": [
              "(576, 1, 1)"
            ]
          },
          "metadata": {},
          "execution_count": 8
        }
      ]
    },
    {
      "cell_type": "code",
      "source": [
        "em1 = embeddings[0].flatten().reshape(1,-1)\n",
        "em2 = embeddings[1].flatten().reshape(1,-1)"
      ],
      "metadata": {
        "id": "astJdf5GBKxQ"
      },
      "execution_count": 9,
      "outputs": []
    },
    {
      "cell_type": "code",
      "source": [
        "# calculating sample cosine similarity\n",
        "\n",
        "similarity = cosine_similarity(em1, em2)\n",
        "print(type(similarity))\n",
        "cosine_sim = (similarity.tolist())[0][0]\n",
        "print(type(cosine_sim))\n",
        "print(cosine_sim)\n"
      ],
      "metadata": {
        "colab": {
          "base_uri": "https://localhost:8080/"
        },
        "id": "z8nxWuq5PVrp",
        "outputId": "af6d5ed7-92a5-4222-cd88-4a0dd669d53b"
      },
      "execution_count": 10,
      "outputs": [
        {
          "output_type": "stream",
          "name": "stdout",
          "text": [
            "<class 'numpy.ndarray'>\n",
            "<class 'float'>\n",
            "0.9221574068069458\n"
          ]
        }
      ]
    },
    {
      "cell_type": "markdown",
      "source": [
        "# Similarity testing on small sample dataset with multiple pre-trained CNNs"
      ],
      "metadata": {
        "id": "ScCKSUcmLHE8"
      }
    },
    {
      "cell_type": "code",
      "source": [
        "# Initializing dataset path\n",
        "dataset_path = '/content/drive/MyDrive/sample_images/'\n",
        "similar_data = os.path.join(dataset_path, 'type_1')\n",
        "different_data = os.path.join(dataset_path, 'type_2')"
      ],
      "metadata": {
        "id": "nCVqNdoNrorV"
      },
      "execution_count": 11,
      "outputs": []
    },
    {
      "cell_type": "code",
      "source": [
        "def cosine_distro(similar = 1, model=model1):\n",
        "\n",
        "  embed_model = get_image_embedder(model)\n",
        "  sim_distro = []\n",
        "  if similar:\n",
        "    image_path = similar_data\n",
        "\n",
        "    embeddings = images_to_embeddings(image_path, embed_model)\n",
        "\n",
        "\n",
        "    for i in range(len(embeddings)):\n",
        "      for j in range(len(embeddings)):\n",
        "        em1 = embeddings[i].flatten().reshape(1,-1)\n",
        "        em2 = embeddings[j].flatten().reshape(1,-1)\n",
        "        similarity = cosine_similarity(em1, em2)\n",
        "        cosine_sim = (similarity.tolist())[0][0]\n",
        "        sim_distro.append(cosine_sim)\n",
        "    return sim_distro\n",
        "\n",
        "  else:\n",
        "    image_path_1 = similar_data\n",
        "    image_path_2 = different_data\n",
        "\n",
        "    embeddings_1 = images_to_embeddings(image_path_1, embed_model)\n",
        "    embeddings_2 = images_to_embeddings(image_path_2, embed_model)\n",
        "\n",
        "\n",
        "    for i in range(len(embeddings_1)):\n",
        "      for j in range(len(embeddings_2)):\n",
        "        em1 = embeddings_1[i].flatten().reshape(1,-1)\n",
        "        em2 = embeddings_2[j].flatten().reshape(1,-1)\n",
        "        similarity = cosine_similarity(em1, em2)\n",
        "        cosine_sim = (similarity.tolist())[0][0]\n",
        "        sim_distro.append(cosine_sim)\n",
        "    return sim_distro"
      ],
      "metadata": {
        "id": "BMpuzUxBLueZ"
      },
      "execution_count": 18,
      "outputs": []
    },
    {
      "cell_type": "code",
      "source": [
        "# image distro check with mobilenetv3 small\n",
        "same_distro_mobilenetv3 =  cosine_distro(1,model1)\n",
        "diff_distro_mobilenetv3 = cosine_distro(0,model1)"
      ],
      "metadata": {
        "id": "N4vJar2Q8SYf"
      },
      "execution_count": 38,
      "outputs": []
    },
    {
      "cell_type": "code",
      "source": [
        "# image distro check with resnet50\n",
        "same_distro_resnet50 = cosine_distro(1, model2)\n",
        "diff_distro_resnet50 = cosine_distro(0, model2)"
      ],
      "metadata": {
        "id": "an1DN75h8gCB"
      },
      "execution_count": 39,
      "outputs": []
    },
    {
      "cell_type": "code",
      "source": [
        "# image distro check with efficientnet\n",
        "same_distro_efficientnet = cosine_distro(1, model3)\n",
        "diff_distro_efficientnet = cosine_distro(0, model3)"
      ],
      "metadata": {
        "id": "xmBemNAXMmKs"
      },
      "execution_count": 40,
      "outputs": []
    },
    {
      "cell_type": "code",
      "source": [
        "# image distro check with convnext\n",
        "same_distro_convnext = cosine_distro(1, model4)\n",
        "diff_distro_convnext = cosine_distro(0, model4)"
      ],
      "metadata": {
        "id": "TW0mycftNT9L"
      },
      "execution_count": 42,
      "outputs": []
    },
    {
      "cell_type": "code",
      "source": [
        "# Grouping them into pairs\n",
        "groups = [\n",
        "    (same_distro_mobilenetv3, diff_distro_mobilenetv3, 'MobilenetV3_576'),\n",
        "    (same_distro_resnet50, diff_distro_resnet50, 'ResNet50_2048'),\n",
        "    (same_distro_efficientnet, diff_distro_efficientnet, 'EfficientNet_1280'),\n",
        "    (same_distro_convnext, diff_distro_convnext, 'ConvNext_768')\n",
        "]\n",
        "\n",
        "# Create subplots\n",
        "fig, axes = plt.subplots(len(groups), 1, figsize=(8, 8))\n",
        "\n",
        "# Plot histograms for each group in a subplot\n",
        "for i, (same_distro, diff_distro, title) in enumerate(groups):\n",
        "    axes[i].hist(same_distro, bins=30, alpha=0.5, label='Same Distro', color='blue')\n",
        "    axes[i].hist(diff_distro, bins=30, alpha=0.5, label='Different Distro', color='orange')\n",
        "    axes[i].set_title(title)\n",
        "    axes[i].legend()\n",
        "\n",
        "# Display the plot\n",
        "plt.tight_layout()\n",
        "plt.show()"
      ],
      "metadata": {
        "colab": {
          "base_uri": "https://localhost:8080/",
          "height": 807
        },
        "id": "YlK5GluzOMy_",
        "outputId": "8e2e954c-eeba-434d-f9f8-5f17e5c1d1bc"
      },
      "execution_count": 46,
      "outputs": [
        {
          "output_type": "display_data",
          "data": {
            "text/plain": [
              "<Figure size 800x800 with 4 Axes>"
            ],
            "image/png": "[encoded data removed]"
          },
          "metadata": {}
        }
      ]
    }
  ]
}